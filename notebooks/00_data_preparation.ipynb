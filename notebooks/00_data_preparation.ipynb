{
 "cells": [
  {
   "cell_type": "markdown",
   "metadata": {
    "application/vnd.databricks.v1+cell": {
     "cellMetadata": {},
     "inputWidgets": {},
     "nuid": "2fbbdb29-0ba8-4b71-b8f8-1301818785f3",
     "showTitle": false,
     "tableResultSettingsMap": {},
     "title": ""
    }
   },
   "source": [
    "# Data Preparation for SEC Financial Filings\n",
    "This notebook:\n",
    "1. Creates a schema for the project  \n",
    "2. Creates a single Volume for raw datasets and checkpoints  \n",
    "3. Copies dataset files from the repo into the Volume  "
   ]
  },
  {
   "cell_type": "markdown",
   "metadata": {
    "application/vnd.databricks.v1+cell": {
     "cellMetadata": {},
     "inputWidgets": {},
     "nuid": "c3d9626c-bfe8-4262-9988-bdfa745aede4",
     "showTitle": false,
     "tableResultSettingsMap": {},
     "title": ""
    }
   },
   "source": [
    "### 1. Creates a schema for the project"
   ]
  },
  {
   "cell_type": "code",
   "execution_count": 0,
   "metadata": {
    "application/vnd.databricks.v1+cell": {
     "cellMetadata": {
      "byteLimit": 2048000,
      "rowLimit": 10000
     },
     "inputWidgets": {},
     "nuid": "a1c633b6-8631-492e-ba03-c1473d1e0498",
     "showTitle": false,
     "tableResultSettingsMap": {},
     "title": ""
    }
   },
   "outputs": [],
   "source": [
    "catalog_name = \"financial_data\"\n",
    "schema_name = \"lakehouse\"\n",
    "\n",
    "spark.sql(f\"CREATE CATALOG IF NOT EXISTS {catalog_name}\")\n",
    "spark.sql(f\"USE CATALOG {catalog_name}\")\n",
    "spark.sql(f\"CREATE SCHEMA IF NOT EXISTS {schema_name}\")\n",
    "spark.sql(f\"USE SCHEMA {schema_name}\")\n",
    "\n",
    "print(f\"Active schema: {catalog_name}.{schema_name}\")"
   ]
  },
  {
   "cell_type": "markdown",
   "metadata": {
    "application/vnd.databricks.v1+cell": {
     "cellMetadata": {},
     "inputWidgets": {},
     "nuid": "29e49f5f-796d-4841-9ef5-dd9abaeb1ea3",
     "showTitle": false,
     "tableResultSettingsMap": {},
     "title": ""
    }
   },
   "source": [
    "### 2. Creates a single Volume for raw datasets and checkpoints"
   ]
  },
  {
   "cell_type": "code",
   "execution_count": 0,
   "metadata": {
    "application/vnd.databricks.v1+cell": {
     "cellMetadata": {
      "byteLimit": 2048000,
      "rowLimit": 10000
     },
     "inputWidgets": {},
     "nuid": "2a975dcc-21cc-48e7-8bbb-c08dcc1bd6ad",
     "showTitle": false,
     "tableResultSettingsMap": {},
     "title": ""
    }
   },
   "outputs": [],
   "source": [
    "volume_name = \"datasets\"\n",
    "checkpoints_name = \"files\"\n",
    "\n",
    "spark.sql(f\"CREATE VOLUME IF NOT EXISTS {volume_name}\")\n",
    "print(f\"Volume created: {catalog_name}.{schema_name}.{volume_name}\")\n",
    "\n",
    "spark.sql(f\"CREATE VOLUME IF NOT EXISTS {checkpoints_name}\")\n",
    "print(f\"Volume created: {catalog_name}.{schema_name}.{checkpoints_name}\")"
   ]
  },
  {
   "cell_type": "markdown",
   "metadata": {
    "application/vnd.databricks.v1+cell": {
     "cellMetadata": {},
     "inputWidgets": {},
     "nuid": "f4888c44-e7e1-4175-89e9-99839198e864",
     "showTitle": false,
     "tableResultSettingsMap": {},
     "title": ""
    }
   },
   "source": [
    "### 3. Copies dataset files from the repo into the Volume"
   ]
  },
  {
   "cell_type": "code",
   "execution_count": 0,
   "metadata": {
    "application/vnd.databricks.v1+cell": {
     "cellMetadata": {},
     "inputWidgets": {},
     "nuid": "366b028d-4aa4-4177-9514-c245c0f6c639",
     "showTitle": false,
     "tableResultSettingsMap": {},
     "title": ""
    }
   },
   "outputs": [],
   "source": [
    "import shutil, os\n",
    "\n",
    "repo_dataset_path = \"/Workspace/Repos/yourname@databricks.com/databricks-financial-data-lakehouse/data-sample\"\n",
    "volume_path = f\"/Volumes/{catalog_name}/{schema_name}/{volume_name}/sec_filings\"\n",
    "\n",
    "os.makedirs(volume_path, exist_ok=True)\n",
    "\n",
    "for file in os.listdir(repo_dataset_path):\n",
    "    if file.endswith(\".json\"):\n",
    "        shutil.copy(os.path.join(repo_dataset_path, file), volume_path)\n",
    "        print(f\"Copied: {file} -> {volume_path}\")\n",
    "\n",
    "print(\"All dataset files copied successfully.\")"
   ]
  }
 ],
 "metadata": {
  "application/vnd.databricks.v1+notebook": {
   "computePreferences": null,
   "dashboards": [],
   "environmentMetadata": {
    "base_environment": "",
    "environment_version": "4"
   },
   "inputWidgetPreferences": null,
   "language": "python",
   "notebookMetadata": {
    "pythonIndentUnit": 4
   },
   "notebookName": "00_data_preparation",
   "widgets": {}
  },
  "language_info": {
   "name": "python"
  }
 },
 "nbformat": 4,
 "nbformat_minor": 0
}
