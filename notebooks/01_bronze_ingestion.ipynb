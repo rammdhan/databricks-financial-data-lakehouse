{
 "cells": [
  {
   "cell_type": "markdown",
   "metadata": {
    "application/vnd.databricks.v1+cell": {
     "cellMetadata": {
      "byteLimit": 2048000,
      "rowLimit": 10000
     },
     "inputWidgets": {},
     "nuid": "55ba941b-0ac3-4df9-8848-4500c414b59f",
     "showTitle": false,
     "tableResultSettingsMap": {},
     "title": ""
    }
   },
   "source": [
    "# Data Ingestion for SEC 10-K Filings"
   ]
  },
  {
   "cell_type": "code",
   "execution_count": 0,
   "metadata": {
    "application/vnd.databricks.v1+cell": {
     "cellMetadata": {
      "byteLimit": 2048000,
      "rowLimit": 10000
     },
     "inputWidgets": {},
     "nuid": "993a17d9-d645-4652-a579-40bf52674496",
     "showTitle": false,
     "tableResultSettingsMap": {},
     "title": ""
    }
   },
   "outputs": [],
   "source": [
    "from pyspark.sql.functions import col, current_timestamp\n",
    "\n",
    "catalog_name = \"financial_data\"\n",
    "schema_name = \"lakehouse\"\n",
    "table_name = \"bronze_filings\"\n",
    "\n",
    "datasets_path = f\"/Volumes/{catalog_name}/{schema_name}/datasets\"\n",
    "files_path = f\"/Volumes/{catalog_name}/{schema_name}/files\""
   ]
  },
  {
   "cell_type": "code",
   "execution_count": 0,
   "metadata": {
    "application/vnd.databricks.v1+cell": {
     "cellMetadata": {
      "byteLimit": 2048000,
      "rowLimit": 10000
     },
     "inputWidgets": {},
     "nuid": "485236bf-e94f-4852-9d5c-db7e69c72672",
     "showTitle": false,
     "tableResultSettingsMap": {},
     "title": ""
    }
   },
   "outputs": [],
   "source": [
    "def readStream_raw():\n",
    "    filing_schema = StructType([\n",
    "        StructField(\"cik\", StringType(), True),\n",
    "        StructField(\"company\", StringType(), True),\n",
    "        StructField(\"filing_type\", StringType(), True),\n",
    "        StructField(\"filing_date\", StringType(), True),\n",
    "        StructField(\"period_of_report\", StringType(), True),\n",
    "        StructField(\"sic\", StringType(), True),\n",
    "        StructField(\"state_of_inc\", StringType(), True),\n",
    "        StructField(\"state_location\", StringType(), True),\n",
    "        StructField(\"fiscal_year_end\", StringType(), True),\n",
    "        StructField(\"filing_html_index\", StringType(), True),\n",
    "        StructField(\"htm_filing_link\", StringType(), True),\n",
    "        StructField(\"complete_text_filing_link\", StringType(), True),\n",
    "        StructField(\"filename\", StringType(), True),\n",
    "        StructField(\"item_1\", StringType(), True),\n",
    "        StructField(\"item_1A\", StringType(), True),\n",
    "        StructField(\"item_1B\", StringType(), True),\n",
    "        StructField(\"item_2\", StringType(), True),\n",
    "        StructField(\"item_3\", StringType(), True),\n",
    "        StructField(\"item_4\", StringType(), True),\n",
    "        StructField(\"item_5\", StringType(), True),\n",
    "        StructField(\"item_6\", StringType(), True),\n",
    "        StructField(\"item_7\", StringType(), True),\n",
    "        StructField(\"item_7A\", StringType(), True),\n",
    "        StructField(\"item_8\", StringType(), True),\n",
    "        StructField(\"item_9\", StringType(), True),\n",
    "        StructField(\"item_9A\", StringType(), True),\n",
    "        StructField(\"item_9B\", StringType(), True),\n",
    "        StructField(\"item_10\", StringType(), True),\n",
    "        StructField(\"item_11\", StringType(), True),\n",
    "        StructField(\"item_12\", StringType(), True),\n",
    "        StructField(\"item_13\", StringType(), True),\n",
    "        StructField(\"item_14\", StringType(), True),\n",
    "        StructField(\"item_15\", StringType(), True)\n",
    "    ])\n",
    "\n",
    "    raw_df = (\n",
    "        spark.readStream\n",
    "        .format(\"cloudFiles\")\n",
    "        .option(\"cloudFiles.format\", \"json\")\n",
    "        .option(\"cloudFiles.schemaLocation\", f\"{files_path}/schema/bronze_ingestion\")\n",
    "        .schema(filing_schema)\n",
    "        .load(f\"{datasets_path}/sec_filings/*\")\n",
    "        .withColumn(\"source_file_path\", col(\"_metadata.file_path\"))\n",
    "        .withColumn(\"ingest_timestamp\", current_timestamp())\n",
    "    )\n",
    "\n",
    "    return raw_df\n"
   ]
  },
  {
   "cell_type": "code",
   "execution_count": 0,
   "metadata": {
    "application/vnd.databricks.v1+cell": {
     "cellMetadata": {
      "byteLimit": 2048000,
      "rowLimit": 10000
     },
     "inputWidgets": {},
     "nuid": "1b2c38cc-6a4c-48e0-8ee4-522bad330b34",
     "showTitle": false,
     "tableResultSettingsMap": {},
     "title": ""
    }
   },
   "outputs": [],
   "source": [
    "def writeStream_raw(raw_df):\n",
    "    write = (\n",
    "            raw_df.writeStream\n",
    "            .option(\"checkpointLocation\", f\"{files_path}/checkpoint/bronze_ingestion\")\n",
    "            .option(\"mergeSchema\", \"true\")\n",
    "            .outputMode(\"append\")\n",
    "            .trigger(availableNow=True)\n",
    "            .toTable(f\"{catalog_name}.{schema_name}.{table_name}\")\n",
    "        )"
   ]
  },
  {
   "cell_type": "code",
   "execution_count": 0,
   "metadata": {
    "application/vnd.databricks.v1+cell": {
     "cellMetadata": {
      "byteLimit": 2048000,
      "rowLimit": 10000
     },
     "inputWidgets": {},
     "nuid": "698fa48e-5dd6-4cba-8252-97acfdbf1be5",
     "showTitle": false,
     "tableResultSettingsMap": {},
     "title": ""
    }
   },
   "outputs": [],
   "source": [
    "df = readStream_raw()\n",
    "writeStream_raw(df)"
   ]
  }
 ],
 "metadata": {
  "application/vnd.databricks.v1+notebook": {
   "computePreferences": null,
   "dashboards": [],
   "environmentMetadata": {
    "base_environment": "",
    "environment_version": "4"
   },
   "inputWidgetPreferences": null,
   "language": "python",
   "notebookMetadata": {
    "pythonIndentUnit": 4
   },
   "notebookName": "01_bronze_ingestion",
   "widgets": {}
  },
  "language_info": {
   "name": "python"
  }
 },
 "nbformat": 4,
 "nbformat_minor": 0
}
